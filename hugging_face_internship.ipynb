{
 "cells": [
  {
   "cell_type": "markdown",
   "id": "4acf1e02",
   "metadata": {},
   "source": [
    "# Initialize libraries and dataset"
   ]
  },
  {
   "cell_type": "markdown",
   "id": "194126a0",
   "metadata": {},
   "source": [
    "### Load libraries"
   ]
  },
  {
   "cell_type": "code",
   "execution_count": 9,
   "id": "b98828cf",
   "metadata": {},
   "outputs": [],
   "source": [
    "from datasets import load_dataset\n",
    "from transformers import AutoTokenizer, AutoModelForMaskedLM, pipeline"
   ]
  },
  {
   "cell_type": "markdown",
   "id": "f31b16c9",
   "metadata": {},
   "source": [
    "### Load wikitext"
   ]
  },
  {
   "cell_type": "code",
   "execution_count": 10,
   "id": "87e58d24",
   "metadata": {},
   "outputs": [
    {
     "name": "stderr",
     "output_type": "stream",
     "text": [
      "Reusing dataset wikitext (/Users/thomaslemenestrel/.cache/huggingface/datasets/wikitext/wikitext-2-raw-v1/1.0.0/a241db52902eaf2c6aa732210bead40c090019a499ceb13bcbfa3f8ab646a126)\n"
     ]
    }
   ],
   "source": [
    "dataset = load_dataset('wikitext', 'wikitext-2-raw-v1', split='train')"
   ]
  },
  {
   "cell_type": "markdown",
   "id": "43e0e051",
   "metadata": {},
   "source": [
    "# Pre-processing"
   ]
  },
  {
   "cell_type": "markdown",
   "id": "ad72e888",
   "metadata": {},
   "source": [
    "### Find the right training data example"
   ]
  },
  {
   "cell_type": "code",
   "execution_count": 4,
   "id": "c2d77f2b",
   "metadata": {},
   "outputs": [
    {
     "name": "stdout",
     "output_type": "stream",
     "text": [
      " The game 's battle system , the BliTZ system , is carried over directly from Valkyira Chronicles . During missions , players select each unit using a top @-@ down perspective of the battlefield map : once a character is selected , the player moves the character around the battlefield in third @-@ person . A character can only act once per @-@ turn , but characters can be granted multiple turns at the expense of other characters ' turns . Each character has a field and distance of movement limited by their Action Gauge . Up to nine characters can be assigned to a single mission . During gameplay , characters will call out if something happens to them , such as their health points ( HP ) getting low or being knocked out by enemy attacks . Each character has specific \" Potentials \" , skills unique to each character . They are divided into \" Personal Potential \" , which are innate skills that remain unaltered unless otherwise dictated by the story and can either help or impede a character , and \" Battle Potentials \" , which are grown throughout the game and always grant boons to a character . To learn Battle Potentials , each character has a unique \" Masters Table \" , a grid @-@ based skill table that can be used to acquire and link different skills . Characters also have Special Abilities that grant them temporary boosts on the battlefield : Kurt can activate \" Direct Command \" and move around the battlefield without depleting his Action Point gauge , the character Reila can shift into her \" Valkyria Form \" and become invincible , while Imca can target multiple enemy units with her heavy weapon . \n",
      "\n"
     ]
    }
   ],
   "source": [
    "example = dataset[10]['text']\n",
    "\n",
    "print(example)"
   ]
  },
  {
   "cell_type": "markdown",
   "id": "1ec19da0",
   "metadata": {},
   "source": [
    "### Tokenizing the example"
   ]
  },
  {
   "cell_type": "code",
   "execution_count": 5,
   "id": "ef3eaa16",
   "metadata": {},
   "outputs": [],
   "source": [
    "hf_name = 'distilbert-base-cased'"
   ]
  },
  {
   "cell_type": "code",
   "execution_count": 6,
   "id": "78490174",
   "metadata": {},
   "outputs": [
    {
     "name": "stdout",
     "output_type": "stream",
     "text": [
      "['The', 'game', \"'\", 's', 'battle', 'system', ',', 'the', 'B', '##li', '##T', '##Z', 'system', ',', 'is', 'carried', 'over', 'directly', 'from', 'Val', '##ky', '##ira', 'Chronicles', '.', 'During', 'missions', ',', 'players', 'select', 'each', 'unit', 'using', 'a', 'top', '@', '-', '@', 'down', 'perspective', 'of', 'the', 'battlefield', 'map', ':', 'once', 'a', 'character', 'is', 'selected', ',', 'the', 'player', 'moves', 'the', 'character', 'around', 'the', 'battlefield', 'in', 'third', '@', '-', '@', 'person', '.', 'A', 'character', 'can', 'only', 'act', 'once', 'per', '@', '-', '@', 'turn', ',', 'but', 'characters', 'can', 'be', 'granted', 'multiple', 'turns', 'at', 'the', 'expense', 'of', 'other', 'characters', \"'\", 'turns', '.', 'Each', 'character', 'has', 'a', 'field', 'and', 'distance', 'of', 'movement', 'limited', 'by', 'their', 'Action', 'G', '##au', '##ge', '.', 'Up', 'to', 'nine', 'characters', 'can', 'be', 'assigned', 'to', 'a', 'single', 'mission', '.', 'During', 'gameplay', ',', 'characters', 'will', 'call', 'out', 'if', 'something', 'happens', 'to', 'them', ',', 'such', 'as', 'their', 'health', 'points', '(', 'HP', ')', 'getting', 'low', 'or', 'being', 'knocked', 'out', 'by', 'enemy', 'attacks', '.', 'Each', 'character', 'has', 'specific', '\"', 'Po', '##ten', '##tial', '##s', '\"', ',', 'skills', 'unique', 'to', 'each', 'character', '.', 'They', 'are', 'divided', 'into', '\"', 'Personal', 'Po', '##ten', '##tial', '\"', ',', 'which', 'are', 'inn', '##ate', 'skills', 'that', 'remain', 'un', '##altered', 'unless', 'otherwise', 'dictated', 'by', 'the', 'story', 'and', 'can', 'either', 'help', 'or', 'imp', '##ede', 'a', 'character', ',', 'and', '\"', 'Battle', 'Po', '##ten', '##tial', '##s', '\"', ',', 'which', 'are', 'grown', 'throughout', 'the', 'game', 'and', 'always', 'grant', 'b', '##oons', 'to', 'a', 'character', '.', 'To', 'learn', 'Battle', 'Po', '##ten', '##tial', '##s', ',', 'each', 'character', 'has', 'a', 'unique', '\"', 'Masters', 'Table', '\"', ',', 'a', 'grid', '@', '-', '@', 'based', 'skill', 'table', 'that', 'can', 'be', 'used', 'to', 'acquire', 'and', 'link', 'different', 'skills', '.', 'Character', '##s', 'also', 'have', 'Special', 'A', '##bilities', 'that', 'grant', 'them', 'temporary', 'boost', '##s', 'on', 'the', 'battlefield', ':', 'Kurt', 'can', 'activate', '\"', 'Direct', 'Command', '\"', 'and', 'move', 'around', 'the', 'battlefield', 'without', 'de', '##ple', '##ting', 'his', 'Action', 'Point', 'gauge', ',', 'the', 'character', 'Re', '##ila', 'can', 'shift', 'into', 'her', '\"', 'Val', '##ky', '##ria', 'Form', '\"', 'and', 'become', 'in', '##vin', '##cible', ',', 'while', 'I', '##m', '##ca', 'can', 'target', 'multiple', 'enemy', 'units', 'with', 'her', 'heavy', 'weapon', '.']\n"
     ]
    }
   ],
   "source": [
    "tokenizer     = AutoTokenizer.from_pretrained(hf_name)\n",
    "encoded_input = tokenizer.tokenize(example)\n",
    "\n",
    "print(encoded_input)"
   ]
  },
  {
   "cell_type": "markdown",
   "id": "63d202eb",
   "metadata": {},
   "source": [
    "### Mask the 6th token (index 5)"
   ]
  },
  {
   "cell_type": "code",
   "execution_count": 7,
   "id": "1c280d8b",
   "metadata": {},
   "outputs": [
    {
     "name": "stdout",
     "output_type": "stream",
     "text": [
      "The game ' s battle [MASK] , the B ##li ##T ##Z system , is carried over directly from Val ##ky ##ira Chronicles . During missions , players select each unit using a top @ - @ down perspective of the battlefield map : once a character is selected , the player moves the character around the battlefield in third @ - @ person . A character can only act once per @ - @ turn , but characters can be granted multiple turns at the expense of other characters ' turns . Each character has a field and distance of movement limited by their Action G ##au ##ge . Up to nine characters can be assigned to a single mission . During gameplay , characters will call out if something happens to them , such as their health points ( HP ) getting low or being knocked out by enemy attacks . Each character has specific \" Po ##ten ##tial ##s \" , skills unique to each character . They are divided into \" Personal Po ##ten ##tial \" , which are inn ##ate skills that remain un ##altered unless otherwise dictated by the story and can either help or imp ##ede a character , and \" Battle Po ##ten ##tial ##s \" , which are grown throughout the game and always grant b ##oons to a character . To learn Battle Po ##ten ##tial ##s , each character has a unique \" Masters Table \" , a grid @ - @ based skill table that can be used to acquire and link different skills . Character ##s also have Special A ##bilities that grant them temporary boost ##s on the battlefield : Kurt can activate \" Direct Command \" and move around the battlefield without de ##ple ##ting his Action Point gauge , the character Re ##ila can shift into her \" Val ##ky ##ria Form \" and become in ##vin ##cible , while I ##m ##ca can target multiple enemy units with her heavy weapon .\n"
     ]
    }
   ],
   "source": [
    "encoded_input[5] = '[MASK]'\n",
    "encoded_input = ' '.join(encoded_input)\n",
    "\n",
    "print(encoded_input)"
   ]
  },
  {
   "cell_type": "markdown",
   "id": "58f44659",
   "metadata": {},
   "source": [
    "### Run distillBERT to find the word for the [MASK] token"
   ]
  },
  {
   "cell_type": "code",
   "execution_count": 8,
   "id": "539d99f6",
   "metadata": {},
   "outputs": [
    {
     "data": {
      "text/plain": [
       "[{'score': 0.20464356243610382,\n",
       "  'token': 5418,\n",
       "  'token_str': 'mode',\n",
       "  'sequence': 'The game\\'s battle mode, the B # # li # # T # # Z system, is carried over directly from Val # # ky # # ira Chronicles. During missions, players select each unit using a top @ - @ down perspective of the battlefield map : once a character is selected, the player moves the character around the battlefield in third @ - @ person. A character can only act once per @ - @ turn, but characters can be granted multiple turns at the expense of other characters\\'turns. Each character has a field and distance of movement limited by their Action G # # au # # ge. Up to nine characters can be assigned to a single mission. During gameplay, characters will call out if something happens to them, such as their health points ( HP ) getting low or being knocked out by enemy attacks. Each character has specific \" Po # # ten # # tial # # s \", skills unique to each character. They are divided into \" Personal Po # # ten # # tial \", which are inn # # ate skills that remain un # # altered unless otherwise dictated by the story and can either help or imp # # ede a character, and \" Battle Po # # ten # # tial # # s \", which are grown throughout the game and always grant b # # oons to a character. To learn Battle Po # # ten # # tial # # s, each character has a unique \" Masters Table \", a grid @ - @ based skill table that can be used to acquire and link different skills. Character # # s also have Special A # # bilities that grant them temporary boost # # s on the battlefield : Kurt can activate \" Direct Command \" and move around the battlefield without de # # ple # # ting his Action Point gauge, the character Re # # ila can shift into her \" Val # # ky # # ria Form \" and become in # # vin # # cible, while I # # m # # ca can target multiple enemy units with her heavy weapon.'},\n",
       " {'score': 0.15241080522537231,\n",
       "  'token': 19459,\n",
       "  'token_str': 'mechanic',\n",
       "  'sequence': 'The game\\'s battle mechanic, the B # # li # # T # # Z system, is carried over directly from Val # # ky # # ira Chronicles. During missions, players select each unit using a top @ - @ down perspective of the battlefield map : once a character is selected, the player moves the character around the battlefield in third @ - @ person. A character can only act once per @ - @ turn, but characters can be granted multiple turns at the expense of other characters\\'turns. Each character has a field and distance of movement limited by their Action G # # au # # ge. Up to nine characters can be assigned to a single mission. During gameplay, characters will call out if something happens to them, such as their health points ( HP ) getting low or being knocked out by enemy attacks. Each character has specific \" Po # # ten # # tial # # s \", skills unique to each character. They are divided into \" Personal Po # # ten # # tial \", which are inn # # ate skills that remain un # # altered unless otherwise dictated by the story and can either help or imp # # ede a character, and \" Battle Po # # ten # # tial # # s \", which are grown throughout the game and always grant b # # oons to a character. To learn Battle Po # # ten # # tial # # s, each character has a unique \" Masters Table \", a grid @ - @ based skill table that can be used to acquire and link different skills. Character # # s also have Special A # # bilities that grant them temporary boost # # s on the battlefield : Kurt can activate \" Direct Command \" and move around the battlefield without de # # ple # # ting his Action Point gauge, the character Re # # ila can shift into her \" Val # # ky # # ria Form \" and become in # # vin # # cible, while I # # m # # ca can target multiple enemy units with her heavy weapon.'},\n",
       " {'score': 0.13352081179618835,\n",
       "  'token': 1449,\n",
       "  'token_str': 'system',\n",
       "  'sequence': 'The game\\'s battle system, the B # # li # # T # # Z system, is carried over directly from Val # # ky # # ira Chronicles. During missions, players select each unit using a top @ - @ down perspective of the battlefield map : once a character is selected, the player moves the character around the battlefield in third @ - @ person. A character can only act once per @ - @ turn, but characters can be granted multiple turns at the expense of other characters\\'turns. Each character has a field and distance of movement limited by their Action G # # au # # ge. Up to nine characters can be assigned to a single mission. During gameplay, characters will call out if something happens to them, such as their health points ( HP ) getting low or being knocked out by enemy attacks. Each character has specific \" Po # # ten # # tial # # s \", skills unique to each character. They are divided into \" Personal Po # # ten # # tial \", which are inn # # ate skills that remain un # # altered unless otherwise dictated by the story and can either help or imp # # ede a character, and \" Battle Po # # ten # # tial # # s \", which are grown throughout the game and always grant b # # oons to a character. To learn Battle Po # # ten # # tial # # s, each character has a unique \" Masters Table \", a grid @ - @ based skill table that can be used to acquire and link different skills. Character # # s also have Special A # # bilities that grant them temporary boost # # s on the battlefield : Kurt can activate \" Direct Command \" and move around the battlefield without de # # ple # # ting his Action Point gauge, the character Re # # ila can shift into her \" Val # # ky # # ria Form \" and become in # # vin # # cible, while I # # m # # ca can target multiple enemy units with her heavy weapon.'},\n",
       " {'score': 0.0524350069463253,\n",
       "  'token': 4520,\n",
       "  'token_str': 'map',\n",
       "  'sequence': 'The game\\'s battle map, the B # # li # # T # # Z system, is carried over directly from Val # # ky # # ira Chronicles. During missions, players select each unit using a top @ - @ down perspective of the battlefield map : once a character is selected, the player moves the character around the battlefield in third @ - @ person. A character can only act once per @ - @ turn, but characters can be granted multiple turns at the expense of other characters\\'turns. Each character has a field and distance of movement limited by their Action G # # au # # ge. Up to nine characters can be assigned to a single mission. During gameplay, characters will call out if something happens to them, such as their health points ( HP ) getting low or being knocked out by enemy attacks. Each character has specific \" Po # # ten # # tial # # s \", skills unique to each character. They are divided into \" Personal Po # # ten # # tial \", which are inn # # ate skills that remain un # # altered unless otherwise dictated by the story and can either help or imp # # ede a character, and \" Battle Po # # ten # # tial # # s \", which are grown throughout the game and always grant b # # oons to a character. To learn Battle Po # # ten # # tial # # s, each character has a unique \" Masters Table \", a grid @ - @ based skill table that can be used to acquire and link different skills. Character # # s also have Special A # # bilities that grant them temporary boost # # s on the battlefield : Kurt can activate \" Direct Command \" and move around the battlefield without de # # ple # # ting his Action Point gauge, the character Re # # ila can shift into her \" Val # # ky # # ria Form \" and become in # # vin # # cible, while I # # m # # ca can target multiple enemy units with her heavy weapon.'},\n",
       " {'score': 0.03631817549467087,\n",
       "  'token': 5564,\n",
       "  'token_str': 'strategy',\n",
       "  'sequence': 'The game\\'s battle strategy, the B # # li # # T # # Z system, is carried over directly from Val # # ky # # ira Chronicles. During missions, players select each unit using a top @ - @ down perspective of the battlefield map : once a character is selected, the player moves the character around the battlefield in third @ - @ person. A character can only act once per @ - @ turn, but characters can be granted multiple turns at the expense of other characters\\'turns. Each character has a field and distance of movement limited by their Action G # # au # # ge. Up to nine characters can be assigned to a single mission. During gameplay, characters will call out if something happens to them, such as their health points ( HP ) getting low or being knocked out by enemy attacks. Each character has specific \" Po # # ten # # tial # # s \", skills unique to each character. They are divided into \" Personal Po # # ten # # tial \", which are inn # # ate skills that remain un # # altered unless otherwise dictated by the story and can either help or imp # # ede a character, and \" Battle Po # # ten # # tial # # s \", which are grown throughout the game and always grant b # # oons to a character. To learn Battle Po # # ten # # tial # # s, each character has a unique \" Masters Table \", a grid @ - @ based skill table that can be used to acquire and link different skills. Character # # s also have Special A # # bilities that grant them temporary boost # # s on the battlefield : Kurt can activate \" Direct Command \" and move around the battlefield without de # # ple # # ting his Action Point gauge, the character Re # # ila can shift into her \" Val # # ky # # ria Form \" and become in # # vin # # cible, while I # # m # # ca can target multiple enemy units with her heavy weapon.'}]"
      ]
     },
     "execution_count": 8,
     "metadata": {},
     "output_type": "execute_result"
    }
   ],
   "source": [
    "unmasker = pipeline('fill-mask', model=hf_name)\n",
    "unmasker(encoded_input)"
   ]
  }
 ],
 "metadata": {
  "kernelspec": {
   "display_name": "Python 3 (ipykernel)",
   "language": "python",
   "name": "python3"
  },
  "language_info": {
   "codemirror_mode": {
    "name": "ipython",
    "version": 3
   },
   "file_extension": ".py",
   "mimetype": "text/x-python",
   "name": "python",
   "nbconvert_exporter": "python",
   "pygments_lexer": "ipython3",
   "version": "3.7.13"
  }
 },
 "nbformat": 4,
 "nbformat_minor": 5
}
